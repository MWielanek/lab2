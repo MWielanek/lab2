{
  "nbformat": 4,
  "nbformat_minor": 0,
  "metadata": {
    "colab": {
      "provenance": [],
      "authorship_tag": "ABX9TyO/eC/Op3sL0o2S6GtFcXnH",
      "include_colab_link": true
    },
    "kernelspec": {
      "name": "python3",
      "display_name": "Python 3"
    },
    "language_info": {
      "name": "python"
    }
  },
  "cells": [
    {
      "cell_type": "markdown",
      "metadata": {
        "id": "view-in-github",
        "colab_type": "text"
      },
      "source": [
        "<a href=\"https://colab.research.google.com/github/MWielanek/lab2/blob/while_variant/while.ipynb\" target=\"_parent\"><img src=\"https://colab.research.google.com/assets/colab-badge.svg\" alt=\"Open In Colab\"/></a>"
      ]
    },
    {
      "cell_type": "code",
      "execution_count": 3,
      "metadata": {
        "colab": {
          "base_uri": "https://localhost:8080/"
        },
        "id": "E2OIjRUbL_1b",
        "outputId": "7ce0fa12-f44f-427a-86bc-5441c26f4f06"
      },
      "outputs": [
        {
          "output_type": "stream",
          "name": "stdout",
          "text": [
            "1\n",
            "2\n",
            "3\n"
          ]
        }
      ],
      "source": [
        "numbers=[1,2,3]\n",
        "print(numbers[0])\n",
        "print(numbers[1])\n",
        "print(numbers[2])"
      ]
    },
    {
      "cell_type": "code",
      "source": [
        "numbers=[1,2,3]\n",
        "x=0\n",
        "while x <len(numbers):\n",
        "    print(numbers[x])\n",
        "    x=x+1"
      ],
      "metadata": {
        "colab": {
          "base_uri": "https://localhost:8080/"
        },
        "id": "712AHp04NxnH",
        "outputId": "7e0106f0-30ee-4f6b-bd50-416c79be2669"
      },
      "execution_count": 5,
      "outputs": [
        {
          "output_type": "stream",
          "name": "stdout",
          "text": [
            "1\n",
            "2\n",
            "3\n"
          ]
        }
      ]
    }
  ]
}